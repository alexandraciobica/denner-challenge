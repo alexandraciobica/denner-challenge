{
 "cells": [
  {
   "cell_type": "code",
   "execution_count": 1,
   "id": "a0062e0f-32a0-442a-96a3-3b7b3f39bd11",
   "metadata": {},
   "outputs": [],
   "source": [
    "%load_ext lab_black"
   ]
  },
  {
   "cell_type": "code",
   "execution_count": 2,
   "id": "dfe161f8-cab4-404f-a569-881f8112a457",
   "metadata": {},
   "outputs": [
    {
     "data": {
      "text/plain": [
       "b'{\"help\": \"https://ckan.opendata.swiss/api/3/action/help_show?name=package_show\", \"success\": true, \"result\": {\"license_title\": null, \"maintainer\": \"Open Data Z\\\\u00fcrich\", \"issued\": \"2022-11-01T00:00:00\", \"title_for_slug\": \"haushaltsaquivalenz-einkommen-steuerpflichtiger-naturlicher-personen-nach-haushaltstyp-stadtqua\", \"qualified_relations\": [], \"private\": false, \"maintainer_email\": \"opendata@zuerich.ch\", \"num_tags\": 7, \"contact_points\": [{\"email\": \"opendata@zuerich.ch\", \"name\": \"Open Data Z\\\\u00'"
      ]
     },
     "execution_count": 2,
     "metadata": {},
     "output_type": "execute_result"
    }
   ],
   "source": [
    "import json\n",
    "import requests\n",
    "import yaml\n",
    "\n",
    "url = \"https://ckan.opendata.swiss/api/3/action/package_show?id=haushaltsaquivalenz-einkommen-steuerpflichtiger-naturlicher-personen-nach-haushaltstyp-stadtqua\"\n",
    "\n",
    "resp = requests.get(url)\n",
    "resp.content[:500]"
   ]
  },
  {
   "cell_type": "code",
   "execution_count": 3,
   "id": "a7e07f0c-eafa-43ac-8a0f-ba50b364ccb2",
   "metadata": {},
   "outputs": [
    {
     "data": {
      "text/plain": [
       "200"
      ]
     },
     "execution_count": 3,
     "metadata": {},
     "output_type": "execute_result"
    }
   ],
   "source": [
    "resp.status_code"
   ]
  },
  {
   "cell_type": "code",
   "execution_count": 4,
   "id": "def92cff-e6b2-42d6-a075-e0289aec02b8",
   "metadata": {},
   "outputs": [
    {
     "data": {
      "text/plain": [
       "'utf-8'"
      ]
     },
     "execution_count": 4,
     "metadata": {},
     "output_type": "execute_result"
    }
   ],
   "source": [
    "resp.encoding"
   ]
  },
  {
   "cell_type": "code",
   "execution_count": 5,
   "id": "d3bc15a3-f3ba-4edf-aef2-17e26aa7fe2f",
   "metadata": {
    "tags": []
   },
   "outputs": [],
   "source": [
    "json_household_income = resp.json()\n",
    "household_income_url = json_household_income[\"result\"][\"resources\"][0][\"url\"]"
   ]
  },
  {
   "cell_type": "code",
   "execution_count": 6,
   "id": "de431902-397f-439a-bb99-a5849090dae5",
   "metadata": {},
   "outputs": [
    {
     "data": {
      "text/html": [
       "<div>\n",
       "<style scoped>\n",
       "    .dataframe tbody tr th:only-of-type {\n",
       "        vertical-align: middle;\n",
       "    }\n",
       "\n",
       "    .dataframe tbody tr th {\n",
       "        vertical-align: top;\n",
       "    }\n",
       "\n",
       "    .dataframe thead th {\n",
       "        text-align: right;\n",
       "    }\n",
       "</style>\n",
       "<table border=\"1\" class=\"dataframe\">\n",
       "  <thead>\n",
       "    <tr style=\"text-align: right;\">\n",
       "      <th></th>\n",
       "      <th>StichtagDatJahr</th>\n",
       "      <th>QuarSort</th>\n",
       "      <th>QuarCd</th>\n",
       "      <th>QuarLang</th>\n",
       "      <th>HHtypSort</th>\n",
       "      <th>HHtypCd</th>\n",
       "      <th>HHtypLang</th>\n",
       "      <th>aequEK_p50</th>\n",
       "      <th>aequEK_p25</th>\n",
       "      <th>aequEK_p75</th>\n",
       "    </tr>\n",
       "  </thead>\n",
       "  <tbody>\n",
       "    <tr>\n",
       "      <th>0</th>\n",
       "      <td>2013</td>\n",
       "      <td>11</td>\n",
       "      <td>11</td>\n",
       "      <td>Rathaus</td>\n",
       "      <td>14</td>\n",
       "      <td>GH</td>\n",
       "      <td>Generationenhaushalt</td>\n",
       "      <td>NaN</td>\n",
       "      <td>NaN</td>\n",
       "      <td>NaN</td>\n",
       "    </tr>\n",
       "    <tr>\n",
       "      <th>1</th>\n",
       "      <td>2013</td>\n",
       "      <td>11</td>\n",
       "      <td>11</td>\n",
       "      <td>Rathaus</td>\n",
       "      <td>11</td>\n",
       "      <td>PH</td>\n",
       "      <td>Patchwork-Haushalt</td>\n",
       "      <td>NaN</td>\n",
       "      <td>NaN</td>\n",
       "      <td>NaN</td>\n",
       "    </tr>\n",
       "    <tr>\n",
       "      <th>2</th>\n",
       "      <td>2013</td>\n",
       "      <td>11</td>\n",
       "      <td>11</td>\n",
       "      <td>Rathaus</td>\n",
       "      <td>13</td>\n",
       "      <td>WGK</td>\n",
       "      <td>Wohngemeinschaft mit Kind(ern)</td>\n",
       "      <td>NaN</td>\n",
       "      <td>NaN</td>\n",
       "      <td>NaN</td>\n",
       "    </tr>\n",
       "    <tr>\n",
       "      <th>3</th>\n",
       "      <td>2013</td>\n",
       "      <td>11</td>\n",
       "      <td>11</td>\n",
       "      <td>Rathaus</td>\n",
       "      <td>6</td>\n",
       "      <td>EP</td>\n",
       "      <td>Eingetragenes Paar ohne Kind(er)</td>\n",
       "      <td>NaN</td>\n",
       "      <td>NaN</td>\n",
       "      <td>NaN</td>\n",
       "    </tr>\n",
       "    <tr>\n",
       "      <th>4</th>\n",
       "      <td>2013</td>\n",
       "      <td>11</td>\n",
       "      <td>11</td>\n",
       "      <td>Rathaus</td>\n",
       "      <td>10</td>\n",
       "      <td>PK</td>\n",
       "      <td>Paar mit Kind(ern)</td>\n",
       "      <td>NaN</td>\n",
       "      <td>NaN</td>\n",
       "      <td>NaN</td>\n",
       "    </tr>\n",
       "  </tbody>\n",
       "</table>\n",
       "</div>"
      ],
      "text/plain": [
       "   StichtagDatJahr  QuarSort  QuarCd QuarLang  HHtypSort HHtypCd  \\\n",
       "0             2013        11      11  Rathaus         14      GH   \n",
       "1             2013        11      11  Rathaus         11      PH   \n",
       "2             2013        11      11  Rathaus         13     WGK   \n",
       "3             2013        11      11  Rathaus          6      EP   \n",
       "4             2013        11      11  Rathaus         10      PK   \n",
       "\n",
       "                          HHtypLang  aequEK_p50  aequEK_p25  aequEK_p75  \n",
       "0              Generationenhaushalt         NaN         NaN         NaN  \n",
       "1                Patchwork-Haushalt         NaN         NaN         NaN  \n",
       "2    Wohngemeinschaft mit Kind(ern)         NaN         NaN         NaN  \n",
       "3  Eingetragenes Paar ohne Kind(er)         NaN         NaN         NaN  \n",
       "4                Paar mit Kind(ern)         NaN         NaN         NaN  "
      ]
     },
     "execution_count": 6,
     "metadata": {},
     "output_type": "execute_result"
    }
   ],
   "source": [
    "import pandas as pd\n",
    "\n",
    "zurich_household_income = pd.read_csv(household_income_url)\n",
    "zurich_household_income.head()"
   ]
  }
 ],
 "metadata": {
  "kernelspec": {
   "display_name": "Python 3 (ipykernel)",
   "language": "python",
   "name": "python3"
  },
  "language_info": {
   "codemirror_mode": {
    "name": "ipython",
    "version": 3
   },
   "file_extension": ".py",
   "mimetype": "text/x-python",
   "name": "python",
   "nbconvert_exporter": "python",
   "pygments_lexer": "ipython3",
   "version": "3.9.12"
  }
 },
 "nbformat": 4,
 "nbformat_minor": 5
}
