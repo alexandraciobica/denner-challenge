{
 "cells": [
  {
   "cell_type": "code",
   "execution_count": 3,
   "id": "06f8903c-5fa8-4baa-8da1-d70489bd398e",
   "metadata": {
    "tags": []
   },
   "outputs": [],
   "source": [
    "import requests\n",
    "import csv \n",
    "import xml.etree.ElementTree as ET \n",
    "import pandas as pd"
   ]
  },
  {
   "cell_type": "code",
   "execution_count": 2,
   "id": "b8067cc0-fcc1-4b89-acee-7ffbe42d7d99",
   "metadata": {
    "tags": []
   },
   "outputs": [
    {
     "name": "stdout",
     "output_type": "stream",
     "text": [
      "403\n"
     ]
    }
   ],
   "source": [
    "response = requests.get(\"https://denner-mobile-api.detailnet.ch/v2\")\n",
    "print(response.status_code)"
   ]
  },
  {
   "cell_type": "code",
   "execution_count": 4,
   "id": "0b104da8-4c09-4d26-8df6-3e93dee76050",
   "metadata": {
    "jupyter": {
     "source_hidden": true
    },
    "tags": []
   },
   "outputs": [],
   "source": [
    "# def loadRSS(): \n",
    "  \n",
    "#     # url of rss feed \n",
    "#     url = 'https://www.ogd.stadt-zuerich.ch/mapproxy/wmts/1.0.0/WMTSCapabilities.xml'\n",
    "  \n",
    "#     # creating HTTP response object from given url \n",
    "#     resp = requests.get(url) \n",
    "  \n",
    "#     # saving the xml file \n",
    "#     with open('topnewsfeed.xml', 'wb') as f: \n",
    "#         f.write(resp.content) \n",
    "          \n",
    "# def parseXML(xmlfile): \n",
    "  \n",
    "#     # create element tree object \n",
    "#     tree = ET.parse(xmlfile) \n",
    "  \n",
    "#     # get root element \n",
    "#     root = tree.getroot() \n",
    "  \n",
    "#     # create empty list for news items \n",
    "#     newsitems = [] \n",
    "  \n",
    "#     # iterate news items \n",
    "#     for item in root.findall('./channel/item'): \n",
    "  \n",
    "#         # empty news dictionary \n",
    "#         news = {} \n",
    "  \n",
    "#         # iterate child elements of item \n",
    "#         for child in item: \n",
    "  \n",
    "#             # special checking for namespace object content:media \n",
    "#             if child.tag == '{http://search.yahoo.com/mrss/}content': \n",
    "#                 news['media'] = child.attrib['url'] \n",
    "#             else: \n",
    "#                 news[child.tag] = child.text.encode('utf8') \n",
    "  \n",
    "#         # append news dictionary to news items list \n",
    "#         newsitems.append(news) \n",
    "      \n",
    "#     # return news items list \n",
    "#     return newsitems \n",
    "  \n",
    "# def savetoCSV(newsitems, filename): \n",
    "  \n",
    "#     # specifying the fields for csv file \n",
    "#     fields = ['guid', 'title', 'pubDate', 'description', 'link', 'media'] \n",
    "  \n",
    "#     # writing to csv file \n",
    "#     with open(filename, 'w') as csvfile: \n",
    "  \n",
    "#         # creating a csv dict writer object \n",
    "#         writer = csv.DictWriter(csvfile, fieldnames = fields) \n",
    "  \n",
    "#         # writing headers (field names) \n",
    "#         writer.writeheader() \n",
    "  \n",
    "#         # writing data rows \n",
    "#         writer.writerows(newsitems) \n",
    "\n",
    "# # def main(): \n",
    "# # load rss from web to update existing xml file \n",
    "# loadRSS() \n",
    "\n",
    "# # parse xml file \n",
    "# newsitems = parseXML('topnewsfeed.xml') \n",
    "\n",
    "# # store news items in a csv file \n",
    "# savetoCSV(newsitems, 'topnews.csv') "
   ]
  },
  {
   "cell_type": "code",
   "execution_count": 46,
   "id": "7849a4b6-7147-4b84-a42b-c735b6a17661",
   "metadata": {
    "tags": []
   },
   "outputs": [],
   "source": [
    "import csv"
   ]
  },
  {
   "cell_type": "code",
   "execution_count": 37,
   "id": "e13de2bb-6b92-4a8e-8b86-54a24bdd0f5a",
   "metadata": {
    "tags": []
   },
   "outputs": [
    {
     "data": {
      "text/plain": [
       "<_csv.reader at 0x10dadf920>"
      ]
     },
     "execution_count": 37,
     "metadata": {},
     "output_type": "execute_result"
    }
   ],
   "source": [
    "# response = requests.get(url)\n",
    "# decoded_content = response.content.decode('utf-8')\n",
    "\n",
    "# cr = csv.reader(decoded_content.splitlines(), delimiter=',')\n",
    "# cr"
   ]
  },
  {
   "cell_type": "code",
   "execution_count": 48,
   "id": "dd7f5044-c227-4970-a9ce-bbd6a11fc0eb",
   "metadata": {
    "tags": []
   },
   "outputs": [
    {
     "data": {
      "text/html": [
       "<div>\n",
       "<style scoped>\n",
       "    .dataframe tbody tr th:only-of-type {\n",
       "        vertical-align: middle;\n",
       "    }\n",
       "\n",
       "    .dataframe tbody tr th {\n",
       "        vertical-align: top;\n",
       "    }\n",
       "\n",
       "    .dataframe thead th {\n",
       "        text-align: right;\n",
       "    }\n",
       "</style>\n",
       "<table border=\"1\" class=\"dataframe\">\n",
       "  <thead>\n",
       "    <tr style=\"text-align: right;\">\n",
       "      <th></th>\n",
       "      <th>StichtagDatJahr</th>\n",
       "      <th>QuarSort</th>\n",
       "      <th>QuarLang</th>\n",
       "      <th>AnzBestWir</th>\n",
       "    </tr>\n",
       "  </thead>\n",
       "  <tbody>\n",
       "    <tr>\n",
       "      <th>0</th>\n",
       "      <td>2022</td>\n",
       "      <td>11</td>\n",
       "      <td>Rathaus</td>\n",
       "      <td>3330.0</td>\n",
       "    </tr>\n",
       "    <tr>\n",
       "      <th>1</th>\n",
       "      <td>2021</td>\n",
       "      <td>11</td>\n",
       "      <td>Rathaus</td>\n",
       "      <td>3275.0</td>\n",
       "    </tr>\n",
       "    <tr>\n",
       "      <th>2</th>\n",
       "      <td>2020</td>\n",
       "      <td>11</td>\n",
       "      <td>Rathaus</td>\n",
       "      <td>3317.0</td>\n",
       "    </tr>\n",
       "    <tr>\n",
       "      <th>3</th>\n",
       "      <td>2019</td>\n",
       "      <td>11</td>\n",
       "      <td>Rathaus</td>\n",
       "      <td>3307.0</td>\n",
       "    </tr>\n",
       "    <tr>\n",
       "      <th>4</th>\n",
       "      <td>2018</td>\n",
       "      <td>11</td>\n",
       "      <td>Rathaus</td>\n",
       "      <td>3267.0</td>\n",
       "    </tr>\n",
       "    <tr>\n",
       "      <th>...</th>\n",
       "      <td>...</td>\n",
       "      <td>...</td>\n",
       "      <td>...</td>\n",
       "      <td>...</td>\n",
       "    </tr>\n",
       "    <tr>\n",
       "      <th>2887</th>\n",
       "      <td>1945</td>\n",
       "      <td>123</td>\n",
       "      <td>Hirzenbach</td>\n",
       "      <td>NaN</td>\n",
       "    </tr>\n",
       "    <tr>\n",
       "      <th>2888</th>\n",
       "      <td>1944</td>\n",
       "      <td>123</td>\n",
       "      <td>Hirzenbach</td>\n",
       "      <td>NaN</td>\n",
       "    </tr>\n",
       "    <tr>\n",
       "      <th>2889</th>\n",
       "      <td>1943</td>\n",
       "      <td>123</td>\n",
       "      <td>Hirzenbach</td>\n",
       "      <td>NaN</td>\n",
       "    </tr>\n",
       "    <tr>\n",
       "      <th>2890</th>\n",
       "      <td>1942</td>\n",
       "      <td>123</td>\n",
       "      <td>Hirzenbach</td>\n",
       "      <td>NaN</td>\n",
       "    </tr>\n",
       "    <tr>\n",
       "      <th>2891</th>\n",
       "      <td>1941</td>\n",
       "      <td>123</td>\n",
       "      <td>Hirzenbach</td>\n",
       "      <td>NaN</td>\n",
       "    </tr>\n",
       "  </tbody>\n",
       "</table>\n",
       "<p>2892 rows × 4 columns</p>\n",
       "</div>"
      ],
      "text/plain": [
       "      StichtagDatJahr  QuarSort    QuarLang  AnzBestWir\n",
       "0                2022        11     Rathaus      3330.0\n",
       "1                2021        11     Rathaus      3275.0\n",
       "2                2020        11     Rathaus      3317.0\n",
       "3                2019        11     Rathaus      3307.0\n",
       "4                2018        11     Rathaus      3267.0\n",
       "...               ...       ...         ...         ...\n",
       "2887             1945       123  Hirzenbach         NaN\n",
       "2888             1944       123  Hirzenbach         NaN\n",
       "2889             1943       123  Hirzenbach         NaN\n",
       "2890             1942       123  Hirzenbach         NaN\n",
       "2891             1941       123  Hirzenbach         NaN\n",
       "\n",
       "[2892 rows x 4 columns]"
      ]
     },
     "execution_count": 48,
     "metadata": {},
     "output_type": "execute_result"
    }
   ],
   "source": [
    "df = pd.read_csv(\"../data/Population/bev324od3240.csv\")\n",
    "df"
   ]
  },
  {
   "cell_type": "code",
   "execution_count": 59,
   "id": "9548a14b-cb6c-4dec-9fa5-b65d9f3ff5d6",
   "metadata": {
    "tags": []
   },
   "outputs": [
    {
     "data": {
      "text/html": [
       "<div>\n",
       "<style scoped>\n",
       "    .dataframe tbody tr th:only-of-type {\n",
       "        vertical-align: middle;\n",
       "    }\n",
       "\n",
       "    .dataframe tbody tr th {\n",
       "        vertical-align: top;\n",
       "    }\n",
       "\n",
       "    .dataframe thead th {\n",
       "        text-align: right;\n",
       "    }\n",
       "</style>\n",
       "<table border=\"1\" class=\"dataframe\">\n",
       "  <thead>\n",
       "    <tr style=\"text-align: right;\">\n",
       "      <th></th>\n",
       "      <th></th>\n",
       "      <th>QuarSort</th>\n",
       "      <th>AnzBestWir</th>\n",
       "    </tr>\n",
       "    <tr>\n",
       "      <th>StichtagDatJahr</th>\n",
       "      <th>QuarLang</th>\n",
       "      <th></th>\n",
       "      <th></th>\n",
       "    </tr>\n",
       "  </thead>\n",
       "  <tbody>\n",
       "    <tr>\n",
       "      <th rowspan=\"5\" valign=\"top\">1941</th>\n",
       "      <th>Affoltern</th>\n",
       "      <td>111.0</td>\n",
       "      <td>3347.0</td>\n",
       "    </tr>\n",
       "    <tr>\n",
       "      <th>Albisrieden</th>\n",
       "      <td>91.0</td>\n",
       "      <td>5952.0</td>\n",
       "    </tr>\n",
       "    <tr>\n",
       "      <th>Alt-Wiedikon</th>\n",
       "      <td>31.0</td>\n",
       "      <td>NaN</td>\n",
       "    </tr>\n",
       "    <tr>\n",
       "      <th>Altstetten</th>\n",
       "      <td>92.0</td>\n",
       "      <td>13651.0</td>\n",
       "    </tr>\n",
       "    <tr>\n",
       "      <th>City</th>\n",
       "      <td>14.0</td>\n",
       "      <td>4462.0</td>\n",
       "    </tr>\n",
       "    <tr>\n",
       "      <th>...</th>\n",
       "      <th>...</th>\n",
       "      <td>...</td>\n",
       "      <td>...</td>\n",
       "    </tr>\n",
       "    <tr>\n",
       "      <th rowspan=\"5\" valign=\"top\">2022</th>\n",
       "      <th>Weinegg</th>\n",
       "      <td>83.0</td>\n",
       "      <td>5559.0</td>\n",
       "    </tr>\n",
       "    <tr>\n",
       "      <th>Werd</th>\n",
       "      <td>41.0</td>\n",
       "      <td>4515.0</td>\n",
       "    </tr>\n",
       "    <tr>\n",
       "      <th>Wipkingen</th>\n",
       "      <td>102.0</td>\n",
       "      <td>16698.0</td>\n",
       "    </tr>\n",
       "    <tr>\n",
       "      <th>Witikon</th>\n",
       "      <td>74.0</td>\n",
       "      <td>11402.0</td>\n",
       "    </tr>\n",
       "    <tr>\n",
       "      <th>Wollishofen</th>\n",
       "      <td>21.0</td>\n",
       "      <td>20570.0</td>\n",
       "    </tr>\n",
       "  </tbody>\n",
       "</table>\n",
       "<p>2892 rows × 2 columns</p>\n",
       "</div>"
      ],
      "text/plain": [
       "                              QuarSort  AnzBestWir\n",
       "StichtagDatJahr QuarLang                          \n",
       "1941            Affoltern        111.0      3347.0\n",
       "                Albisrieden       91.0      5952.0\n",
       "                Alt-Wiedikon      31.0         NaN\n",
       "                Altstetten        92.0     13651.0\n",
       "                City              14.0      4462.0\n",
       "...                                ...         ...\n",
       "2022            Weinegg           83.0      5559.0\n",
       "                Werd              41.0      4515.0\n",
       "                Wipkingen        102.0     16698.0\n",
       "                Witikon           74.0     11402.0\n",
       "                Wollishofen       21.0     20570.0\n",
       "\n",
       "[2892 rows x 2 columns]"
      ]
     },
     "execution_count": 59,
     "metadata": {},
     "output_type": "execute_result"
    }
   ],
   "source": [
    "df.groupby([\"StichtagDatJahr\",\"QuarLang\"]).mean()"
   ]
  },
  {
   "cell_type": "code",
   "execution_count": 56,
   "id": "1a8efd2b-de1b-4ff4-b059-89b3350c8ca5",
   "metadata": {
    "tags": []
   },
   "outputs": [],
   "source": [
    "# df2 = pd.read_json(\"../data/Population/ch.json\")\n",
    "# df2"
   ]
  },
  {
   "cell_type": "code",
   "execution_count": 57,
   "id": "e679052b-f3f2-47dd-9537-1c7b4a4969e4",
   "metadata": {
    "tags": []
   },
   "outputs": [],
   "source": [
    "# df3 = pd.read_csv(\"../data/Population/Zurich-population-2023-12-06.csv\")\n",
    "# df3"
   ]
  }
 ],
 "metadata": {
  "kernelspec": {
   "display_name": "Python 3 (ipykernel)",
   "language": "python",
   "name": "python3"
  },
  "language_info": {
   "codemirror_mode": {
    "name": "ipython",
    "version": 3
   },
   "file_extension": ".py",
   "mimetype": "text/x-python",
   "name": "python",
   "nbconvert_exporter": "python",
   "pygments_lexer": "ipython3",
   "version": "3.11.5"
  }
 },
 "nbformat": 4,
 "nbformat_minor": 5
}
