{
 "cells": [
  {
   "cell_type": "code",
   "execution_count": 1,
   "id": "905c92c6-50b0-413e-b861-ff91f7607390",
   "metadata": {},
   "outputs": [],
   "source": [
    "import pandas as pd"
   ]
  },
  {
   "cell_type": "code",
   "execution_count": 40,
   "id": "13b16c94-b12b-4cbe-bb4c-2fc4cc2c06fd",
   "metadata": {},
   "outputs": [
    {
     "data": {
      "text/plain": [
       "array([8003, 8052, 8055, 8001, 8008, 8004, 8064, 8051, 8050, 8045, 8032,\n",
       "       8048, 8046, 8006, 8049, 8044, 8057, 8037, 8041, 8053, 8047, 8002,\n",
       "       8038, 8005], dtype=int64)"
      ]
     },
     "execution_count": 40,
     "metadata": {},
     "output_type": "execute_result"
    }
   ],
   "source": [
    "df = pd.read_csv(\"../data/Ortschaften_und_Postleitzahlregionen_-OGD/AV_PLZ_ORTSCHAFTEN_F.csv\")\n",
    "df[df[\"ORTSCHAFTSNAME\"] == \"Zürich\"][\"PLZ\"].unique()"
   ]
  },
  {
   "cell_type": "code",
   "execution_count": 9,
   "id": "9926d506-8606-4867-8e0d-7f96ef988b0c",
   "metadata": {},
   "outputs": [
    {
     "ename": "SyntaxError",
     "evalue": "invalid syntax (354576813.py, line 13)",
     "output_type": "error",
     "traceback": [
      "\u001b[1;36m  Cell \u001b[1;32mIn[9], line 13\u001b[1;36m\u001b[0m\n\u001b[1;33m    \"8027\" : \"Enge\",\u001b[0m\n\u001b[1;37m           ^\u001b[0m\n\u001b[1;31mSyntaxError\u001b[0m\u001b[1;31m:\u001b[0m invalid syntax\n"
     ]
    }
   ],
   "source": [
    "    \"8048\" : \"Altstetten\",\n",
    "    \"8064\" : \"Altstetten\",\n",
    "    \"8049\" : \"Höngg\",\n",
    "    \"8037\" : \"Wipkingen\",\n",
    "    \"8046\" : \"Affoltern\",\n",
    "    \"8052\" : \"Seebach\",\n",
    "    \"8050\" : \"Oerlikon\",\n",
    "    \"8301\" : \"Wallisellen\",\n",
    "    \"8051\" : \"Schwamendingen\",\n",
    "    \"8600\" : \"Dübendorf\",\n",
    "    \"8047\" : \"Albisrieden\",\n",
    "    \"8036\" : \"Wiedikon\",\n",
    "    \"8045\" : \"Wiedikon\",\n",
    "    \"8027\" : \"Enge\",\n",
    "    \"8002\" : \"Enge\",\n",
    "    \"8034\" : \"Reisbach\",\n",
    "    \"8041\" : \"Leimbach\",\n",
    "    \"8038\" : \"Wollishofen\",\n",
    "    \"8702\" : \"Zollikon\",\n",
    "    \"8026\" : \"Aussersihl\",\n",
    "    \"8004\" : \"Aussersihl\",\n",
    "    \"8031\" : \"Industriequartier\",\n",
    "    \"8005\" : \"Industriequartier\",\n",
    "    \"8033\" : \"Oberstrass\",\n",
    "    \"8056\" : \"Oberstrass\",\n",
    "    \"8057\" : \"Oberstrass\",\n",
    "    \"8006\" : \"Oberstrass\",\n",
    "    \"8001\" : \"Rathaus\n",
    "    \n",
    "\n",
    "post_dict = {\n",
    "    \"8001\" : \"Rathaus\",\n",
    "    \"8027\" : \"Enge\",\n",
    "    \"8002\" : \"Enge\",\n",
    "    \"8048\" : \"Altstetten\",\n",
    "    \"8064\" : \"Altstetten\",\n",
    "    \"8047\" : \"Albisrieden\",\n",
    "    \"8041\" : \"Leimbach\",\n",
    "    \"8036\" : \"Wiedikon\",\n",
    "    \"8045\" : \"Wiedikon\",\n",
    "    \n",
    "}\n",
    "\n",
    "post_dict = {\n",
    "8001, 8002, 8003, 8004, 8005, 8006, 8008, 8032, 8037, 8038, 8041,\n",
    "       8041, 8044, 8045, 8046, 8047, 8048, 8049, 8050, 8051, 8051, 8051,\n",
    "       8052, 8052, 8052, 8053, 8055, 8057, 8064\n",
    "\n",
    "}"
   ]
  },
  {
   "cell_type": "code",
   "execution_count": 24,
   "id": "414431d8-1338-489e-a421-b300ae6cac00",
   "metadata": {},
   "outputs": [],
   "source": [
    "post_dict = {\n",
    "\"8046\":\t\"Affoltern\",\n",
    "\"8047\":\t\"Albisrieden\",\t\t\t\t\n",
    "\"8003\":\t\"Alt-Wiedikon\",\n",
    "\"8045\":\t\"Alt-Wiedikon\",\t\n",
    "\"8048\":\t\"Altstetten\",\n",
    "\"8064\":\t\"Altstetten\",\n",
    "\"8001\":\t\"City\",\n",
    "\"8002\":\t\"Enge\",\t\t\n",
    "\"8005\":\t\"Escher Wyss\",\t\t\n",
    "\"8044\":\t\"Fluntern\",\t\t\n",
    "\"8045\":\t\"Friesenberg\",\n",
    "\"8055\":\t\"Friesenberg\",\n",
    "\"8005\":\t\"Gewerbeschule\",\t\t\n",
    "\"8004\":\t\"Hard\",\n",
    "\"8032\":\t\"Hirslanden\",\t\t\n",
    "\"8051\":\t\"Hirzenbach\",\t\n",
    "\"8001\":\t\"Hochschulen\",\t\t\n",
    "\"8032\":\t\"Hottingen\"\t,\n",
    "\"8049\":\t\"Höngg\",\n",
    "\"8004\":\t\"Langstrasse\",\t\t\n",
    "\"8041\":\t\"Leimbach\"\t,\n",
    "\"8001\":\t\"Lindenhof\"\t,\t\n",
    "\"8008\":\t\"Mühlebach\"\t,\n",
    "\"8006\":\t\"Oberstrass\",\t\t\t\t\n",
    "\"8050\":\t\"Oerlikon\",\n",
    "\"8057\":\t\"Oerlikon\",\n",
    "\"8001\":\t\"Rathaus\",\t\n",
    "\"8050\":\t\"Saatlen\",\t\t\n",
    "\"8051\":\t\"Schwamendingen-Mitte\",\t\t\n",
    "\"8052\":\t\"Seebach\",\n",
    "\"8008\":\t\"Seefeld\",\n",
    "\"8003\":\t\"Sihlfeld\",\t\t\t\n",
    "\"8006\":\t\"Unterstrass\",\n",
    "\"8057\":\t\"Unterstrass\",\n",
    "\"8008\":\t\"Weinegg\",\n",
    "\"8004\":\t\"Werd\",\n",
    "\"8037\":\t\"Wipkingen\",\t\t\n",
    "\"8053\":\t\"Witikon\",\n",
    "\"8038\":\t\"Wollishofen\",\t\n",
    "\n",
    "}"
   ]
  },
  {
   "cell_type": "code",
   "execution_count": 25,
   "id": "9a010d66-9de6-4ab8-a638-6a38ceeb8851",
   "metadata": {},
   "outputs": [
    {
     "data": {
      "text/plain": [
       "'Rathaus'"
      ]
     },
     "execution_count": 25,
     "metadata": {},
     "output_type": "execute_result"
    }
   ],
   "source": [
    "post_dict[\"8001\"]"
   ]
  },
  {
   "cell_type": "code",
   "execution_count": 26,
   "id": "7551a79c-3cbe-4aca-b911-6d671f2ee82a",
   "metadata": {},
   "outputs": [],
   "source": [
    "posts = [8001, 8002, 8003, 8004, 8005, 8006, 8008, 8032, 8037, 8038, 8041,\n",
    "       8041, 8044, 8045, 8046, 8047, 8048, 8049, 8050, 8051, 8051, 8051,\n",
    "       8052, 8052, 8052, 8053, 8055, 8057, 8064]\n",
    "def intit(num):\n",
    "    return str(num)"
   ]
  },
  {
   "cell_type": "code",
   "execution_count": 27,
   "id": "265f2596-8c97-4dda-9cc7-7e276df9476b",
   "metadata": {},
   "outputs": [
    {
     "data": {
      "text/plain": [
       "['8001',\n",
       " '8002',\n",
       " '8003',\n",
       " '8004',\n",
       " '8005',\n",
       " '8006',\n",
       " '8008',\n",
       " '8032',\n",
       " '8037',\n",
       " '8038',\n",
       " '8041',\n",
       " '8041',\n",
       " '8044',\n",
       " '8045',\n",
       " '8046',\n",
       " '8047',\n",
       " '8048',\n",
       " '8049',\n",
       " '8050',\n",
       " '8051',\n",
       " '8051',\n",
       " '8051',\n",
       " '8052',\n",
       " '8052',\n",
       " '8052',\n",
       " '8053',\n",
       " '8055',\n",
       " '8057',\n",
       " '8064']"
      ]
     },
     "execution_count": 27,
     "metadata": {},
     "output_type": "execute_result"
    }
   ],
   "source": [
    "post_str = []\n",
    "for p in posts:\n",
    "    post_str.append(intit(p))\n",
    "post_str"
   ]
  },
  {
   "cell_type": "code",
   "execution_count": 36,
   "id": "401fe146-c43b-4723-9fa4-4d9e74d103cb",
   "metadata": {},
   "outputs": [
    {
     "name": "stdout",
     "output_type": "stream",
     "text": [
      "Rathaus\n",
      "Enge\n",
      "Sihlfeld\n",
      "Werd\n",
      "Gewerbeschule\n",
      "Unterstrass\n",
      "Weinegg\n",
      "Hottingen\n",
      "Wipkingen\n",
      "Wollishofen\n",
      "Leimbach\n",
      "Leimbach\n",
      "Fluntern\n",
      "Friesenberg\n",
      "Affoltern\n",
      "Albisrieden\n",
      "Altstetten\n",
      "Höngg\n",
      "Saatlen\n",
      "Schwamendingen-Mitte\n",
      "Schwamendingen-Mitte\n",
      "Schwamendingen-Mitte\n",
      "Seebach\n",
      "Seebach\n",
      "Seebach\n",
      "Witikon\n",
      "Friesenberg\n",
      "Unterstrass\n",
      "Altstetten\n"
     ]
    },
    {
     "data": {
      "text/plain": [
       "29"
      ]
     },
     "execution_count": 36,
     "metadata": {},
     "output_type": "execute_result"
    }
   ],
   "source": [
    "count = 0 \n",
    "for p in post_str:\n",
    "    print(post_dict[p])\n",
    "    count +=1\n",
    "count"
   ]
  },
  {
   "cell_type": "code",
   "execution_count": 30,
   "id": "40e1662b-5072-402a-8b21-934f0dd61a90",
   "metadata": {},
   "outputs": [
    {
     "data": {
      "text/plain": [
       "dict_keys(['8046', '8047', '8003', '8045', '8048', '8064', '8001', '8002', '8005', '8044', '8055', '8004', '8032', '8051', '8049', '8041', '8008', '8006', '8050', '8057', '8052', '8037', '8053', '8038'])"
      ]
     },
     "execution_count": 30,
     "metadata": {},
     "output_type": "execute_result"
    }
   ],
   "source": [
    "post_dict.keys()"
   ]
  },
  {
   "cell_type": "code",
   "execution_count": 35,
   "id": "054b343d-cbf4-4b87-905b-869363d12416",
   "metadata": {},
   "outputs": [],
   "source": [
    "for p in post_str:\n",
    "    if not p in post_dict.keys():\n",
    "        print(post_dict[)\n",
    "\n"
   ]
  },
  {
   "cell_type": "code",
   "execution_count": 33,
   "id": "6a69abbb-cf72-48cc-be67-53f4d44e6be5",
   "metadata": {},
   "outputs": [
    {
     "data": {
      "text/plain": [
       "24"
      ]
     },
     "execution_count": 33,
     "metadata": {},
     "output_type": "execute_result"
    }
   ],
   "source": [
    "len(post_dict.keys())"
   ]
  },
  {
   "cell_type": "code",
   "execution_count": 34,
   "id": "dd2dfe78-36bf-4d31-ae7b-773f875f56db",
   "metadata": {},
   "outputs": [
    {
     "data": {
      "text/plain": [
       "29"
      ]
     },
     "execution_count": 34,
     "metadata": {},
     "output_type": "execute_result"
    }
   ],
   "source": [
    "len(post_str)"
   ]
  },
  {
   "cell_type": "code",
   "execution_count": null,
   "id": "885489fa-33d0-4bc5-91e0-1145a2b1c1da",
   "metadata": {},
   "outputs": [],
   "source": []
  }
 ],
 "metadata": {
  "kernelspec": {
   "display_name": "VIZ",
   "language": "python",
   "name": "viz"
  },
  "language_info": {
   "codemirror_mode": {
    "name": "ipython",
    "version": 3
   },
   "file_extension": ".py",
   "mimetype": "text/x-python",
   "name": "python",
   "nbconvert_exporter": "python",
   "pygments_lexer": "ipython3",
   "version": "3.10.13"
  }
 },
 "nbformat": 4,
 "nbformat_minor": 5
}
