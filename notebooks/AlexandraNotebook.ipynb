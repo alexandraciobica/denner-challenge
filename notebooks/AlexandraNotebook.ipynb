{
 "cells": [
  {
   "cell_type": "markdown",
   "id": "7e2726fe-17cf-4a73-aa42-f33060f228fe",
   "metadata": {},
   "source": [
    "Helo this is Pedro and this is a test"
   ]
  }
 ],
 "metadata": {
  "kernelspec": {
   "display_name": "Python 3 (ipykernel)",
   "language": "python",
   "name": "python3"
  },
  "language_info": {
   "codemirror_mode": {
    "name": "ipython",
    "version": 3
   },
   "file_extension": ".py",
   "mimetype": "text/x-python",
   "name": "python",
   "nbconvert_exporter": "python",
   "pygments_lexer": "ipython3",
   "version": "3.10.13"
  }
 },
 "nbformat": 4,
 "nbformat_minor": 5
}
