{
 "cells": [
  {
   "cell_type": "markdown",
   "id": "3062e273-4d96-4053-8841-b1b11e3f1bb2",
   "metadata": {},
   "source": [
    "# We extract all denner zurich branches location\n"
   ]
  },
  {
   "cell_type": "code",
   "execution_count": 164,
   "id": "99d19624-ee5f-434c-b8f3-f607c3772f35",
   "metadata": {},
   "outputs": [],
   "source": [
    "import json\n",
    "from bs4 import BeautifulSoup\n",
    "import pandas as pd\n",
    "import numpy as np"
   ]
  },
  {
   "cell_type": "code",
   "execution_count": null,
   "id": "4e1a655b-3f6c-44d7-800f-7c990248b8b1",
   "metadata": {},
   "outputs": [],
   "source": []
  },
  {
   "cell_type": "code",
   "execution_count": 12,
   "id": "73e58460-9c5a-4e17-8d15-8351748a7a67",
   "metadata": {},
   "outputs": [],
   "source": [
    "with open(\"../data/denner_branches/Filialen.html\", 'r') as f:\n",
    "    soup = BeautifulSoup(f.read(), 'html')"
   ]
  },
  {
   "cell_type": "code",
   "execution_count": 15,
   "id": "541fa393-a6d7-4e53-bedc-7f3ed31ccb56",
   "metadata": {},
   "outputs": [
    {
     "data": {
      "text/plain": [
       "bs4.BeautifulSoup"
      ]
     },
     "execution_count": 15,
     "metadata": {},
     "output_type": "execute_result"
    }
   ],
   "source": [
    "type(soup)"
   ]
  },
  {
   "cell_type": "code",
   "execution_count": 37,
   "id": "0e027766-94e6-4c0f-9603-ec89797b91e8",
   "metadata": {},
   "outputs": [],
   "source": [
    "stores = soup.findAll('div', {'role' : 'tabpanel'})\n",
    "# {'id' : 'collapse-'}"
   ]
  },
  {
   "cell_type": "code",
   "execution_count": 38,
   "id": "adc9e0a6-12cd-4761-b254-bdec65dd3814",
   "metadata": {},
   "outputs": [
    {
     "data": {
      "text/plain": [
       "160"
      ]
     },
     "execution_count": 38,
     "metadata": {},
     "output_type": "execute_result"
    }
   ],
   "source": [
    "len(stores)"
   ]
  },
  {
   "cell_type": "markdown",
   "id": "e45c8439-6d6d-4942-9fdd-fe5d6c873d59",
   "metadata": {},
   "source": [
    "### Address:"
   ]
  },
  {
   "cell_type": "code",
   "execution_count": 238,
   "id": "c23399f5-e1c5-4c02-a9c4-7810979bcafc",
   "metadata": {},
   "outputs": [
    {
     "data": {
      "text/plain": [
       "' Wengistrasse 7'"
      ]
     },
     "execution_count": 238,
     "metadata": {},
     "output_type": "execute_result"
    }
   ],
   "source": [
    "\n",
    "stores[0].findAll('span')[0].text"
   ]
  },
  {
   "cell_type": "code",
   "execution_count": 239,
   "id": "4308a47d-bf5f-4357-9156-b17ad55196a0",
   "metadata": {},
   "outputs": [
    {
     "data": {
      "text/plain": [
       "'8004 Zürich'"
      ]
     },
     "execution_count": 239,
     "metadata": {},
     "output_type": "execute_result"
    }
   ],
   "source": [
    "stores[0].findAll('span')[1].text"
   ]
  },
  {
   "cell_type": "code",
   "execution_count": 58,
   "id": "5da989a8-ced9-4104-80da-9277c6473df9",
   "metadata": {},
   "outputs": [
    {
     "data": {
      "text/plain": [
       "[<span> Wengistrasse 7</span>,\n",
       " <span>8004 Zürich</span>,\n",
       " <span itemprop=\"name\">Denner Express Zürich</span>,\n",
       " <span itemprop=\"streetAddress\">Wengistrasse 7</span>,\n",
       " <span itemprop=\"addressLocality\">Zürich</span>,\n",
       " <span itemprop=\"postalCode\">8004</span>,\n",
       " <span class=\"validFromDate\" date=\"2023-12-06\" itemprop=\"validFrom validThrough\"></span>,\n",
       " <span class=\"validFromDate\" date=\"2023-12-07\" itemprop=\"validFrom validThrough\"></span>,\n",
       " <span class=\"validFromDate\" date=\"2023-12-08\" itemprop=\"validFrom validThrough\"></span>,\n",
       " <span class=\"validFromDate\" date=\"2023-12-09\" itemprop=\"validFrom validThrough\"></span>,\n",
       " <span class=\"validFromDate\" date=\"2023-12-10\" itemprop=\"validFrom validThrough\"></span>,\n",
       " <span class=\"validFromDate\" date=\"2023-12-11\" itemprop=\"validFrom validThrough\"></span>,\n",
       " <span class=\"validFromDate\" date=\"2023-12-12\" itemprop=\"validFrom validThrough\"></span>]"
      ]
     },
     "execution_count": 58,
     "metadata": {},
     "output_type": "execute_result"
    }
   ],
   "source": [
    "stores[0].findAll('span')"
   ]
  },
  {
   "cell_type": "code",
   "execution_count": 56,
   "id": "d51de357-70f3-412f-85d3-c84a17b5b2a5",
   "metadata": {},
   "outputs": [
    {
     "data": {
      "text/plain": [
       "'8134'"
      ]
     },
     "execution_count": 56,
     "metadata": {},
     "output_type": "execute_result"
    }
   ],
   "source": [
    "stores[50].findAll('span', {'itemprop' : 'postalCode'})[0].text"
   ]
  },
  {
   "cell_type": "markdown",
   "id": "18deec6f-9d06-4e70-9595-dd18f0f953df",
   "metadata": {},
   "source": [
    "Type:"
   ]
  },
  {
   "cell_type": "markdown",
   "id": "05134e96-533b-4b5c-a7d2-d0fd5b39f9c9",
   "metadata": {},
   "source": [
    "Type of store:"
   ]
  },
  {
   "cell_type": "code",
   "execution_count": 158,
   "id": "2bd4e26f-26b3-4877-ad55-6ff600091feb",
   "metadata": {},
   "outputs": [
    {
     "data": {
      "text/plain": [
       "'Denner Express'"
      ]
     },
     "execution_count": 158,
     "metadata": {},
     "output_type": "execute_result"
    }
   ],
   "source": [
    "stores[0].findAll('dd')[1].text.strip()"
   ]
  },
  {
   "cell_type": "markdown",
   "id": "5a2a5714-b998-46ad-85c9-4a1968619ef4",
   "metadata": {},
   "source": [
    "Link to google maps"
   ]
  },
  {
   "cell_type": "code",
   "execution_count": 100,
   "id": "907160ea-5dc0-45f0-b819-80038257661b",
   "metadata": {},
   "outputs": [
    {
     "data": {
      "text/plain": [
       "'https://maps.google.com/maps?saddr&daddr=W%C3%A4chlenstrasse%201,%208832,Wollerau,%20Switzerland'"
      ]
     },
     "execution_count": 100,
     "metadata": {},
     "output_type": "execute_result"
    }
   ],
   "source": [
    "stores[159].find('a', {'class' : 'google_track_link'}).get('href')"
   ]
  },
  {
   "cell_type": "markdown",
   "id": "468d9a82-dd44-42e8-a352-15ab6fee5bc9",
   "metadata": {},
   "source": [
    "Telephone"
   ]
  },
  {
   "cell_type": "code",
   "execution_count": 128,
   "id": "33978aa6-dc46-4bc5-a867-619543a697c1",
   "metadata": {},
   "outputs": [],
   "source": [
    " i =stores[0].findAll('dd')[0].text.find(\"Tel.\")"
   ]
  },
  {
   "cell_type": "code",
   "execution_count": 136,
   "id": "e90d0d65-8f5f-4c83-8df2-fc2364b35964",
   "metadata": {},
   "outputs": [
    {
     "data": {
      "text/plain": [
       "'058 999 06 27'"
      ]
     },
     "execution_count": 136,
     "metadata": {},
     "output_type": "execute_result"
    }
   ],
   "source": [
    "stores[0].findAll('dd')[0].text[i+5:i+18]"
   ]
  },
  {
   "cell_type": "markdown",
   "id": "babc20a8-5af5-4563-88b8-fa13b7e9bbe5",
   "metadata": {},
   "source": [
    "Opening time"
   ]
  },
  {
   "cell_type": "code",
   "execution_count": 219,
   "id": "a7db5e52-329c-41a9-a0a1-9f4419f15509",
   "metadata": {},
   "outputs": [
    {
     "data": {
      "text/plain": [
       "13"
      ]
     },
     "execution_count": 219,
     "metadata": {},
     "output_type": "execute_result"
    }
   ],
   "source": [
    "day = stores[58].findAll('tr', {'itemprop' : 'openingHoursSpecification'})\n",
    "len(day)"
   ]
  },
  {
   "cell_type": "code",
   "execution_count": 189,
   "id": "f1809833-12b1-48ae-a73a-2864b695d8a9",
   "metadata": {},
   "outputs": [
    {
     "data": {
      "text/plain": [
       "<tr itemprop=\"openingHoursSpecification\" itemscope=\"\" itemtype=\"http://schema.org/OpeningHoursSpecification\">\n",
       "<td class=\"daylabel\">\n",
       "\t\t\t\t\t\t\t\t\t\t\t\n",
       "\t\t\t\t\t\t\t\t\t\t\t\tDi, 26.12.2023\n",
       "\t\t\t\t\t\t\t\t\t\t\t\t<time content=\"26.12.2023\" itemprop=\"validFrom\"></time>\n",
       "<time content=\"26.12.2023\" itemprop=\"validThrough\"></time>\n",
       "</td>\n",
       "<td>\n",
       "<strong>\n",
       "<time content=\"00:00\" itemprop=\"opens\"></time>geschlossen<time content=\"00:00\" itemprop=\"closes\"></time>\n",
       "\t\t\t\t\t\t\t\t\t\t\t\t\n",
       "\t\t\t\t\t\t\t\t\t\t\t(Stephanstag)\n",
       "\t\t\t\t\t\t\t\t\t\t\t</strong>\n",
       "</td>\n",
       "</tr>"
      ]
     },
     "execution_count": 189,
     "metadata": {},
     "output_type": "execute_result"
    }
   ],
   "source": [
    "day[9]"
   ]
  },
  {
   "cell_type": "code",
   "execution_count": 199,
   "id": "5f59f36f-60ab-4944-a45d-2f5381d63e0e",
   "metadata": {},
   "outputs": [
    {
     "data": {
      "text/plain": [
       "'Freitag'"
      ]
     },
     "execution_count": 199,
     "metadata": {},
     "output_type": "execute_result"
    }
   ],
   "source": [
    "day[2].find(\"td\", {\"itemprop\": \"dayOfWeek\"}).text.split()[0]"
   ]
  },
  {
   "cell_type": "code",
   "execution_count": 174,
   "id": "fd3b5f37-1180-42ce-92cc-dac295a51740",
   "metadata": {},
   "outputs": [],
   "source": [
    "day[4].find(\"time\", {\"itemprop\": \"opens\"})"
   ]
  },
  {
   "cell_type": "code",
   "execution_count": 149,
   "id": "6f1683ee-1f54-49ac-9e82-8089eb8ff927",
   "metadata": {},
   "outputs": [
    {
     "data": {
      "text/plain": [
       "'20:00'"
      ]
     },
     "execution_count": 149,
     "metadata": {},
     "output_type": "execute_result"
    }
   ],
   "source": [
    "day.find(\"time\", {\"itemprop\": \"closes\"}).text"
   ]
  },
  {
   "cell_type": "markdown",
   "id": "d8bce7f4-0e15-453f-8829-cb858bbd7909",
   "metadata": {},
   "source": [
    "Angebot"
   ]
  },
  {
   "cell_type": "code",
   "execution_count": null,
   "id": "b233a9ba-83e2-4534-8cf3-9aa718ec9944",
   "metadata": {},
   "outputs": [],
   "source": [
    "/html/body/div[8]/div[3]/div/div/div[4]/div/div/div[1]/div/div[2]/div/div/div/div[3]/dl/dd/div[2]"
   ]
  },
  {
   "cell_type": "code",
   "execution_count": 210,
   "id": "e86d9d09-b997-409f-9d0d-8b50d469a1ab",
   "metadata": {},
   "outputs": [
    {
     "data": {
      "text/plain": [
       "'Humidor, Bargeldbezug mit Post- / M-Card'"
      ]
     },
     "execution_count": 210,
     "metadata": {},
     "output_type": "execute_result"
    }
   ],
   "source": [
    "stores[4].findAll('dd')[5].findAll(\"div\")[1].text"
   ]
  },
  {
   "cell_type": "code",
   "execution_count": 214,
   "id": "432bf2f0-092f-4c3c-ac02-273b1ed6a4ca",
   "metadata": {},
   "outputs": [
    {
     "data": {
      "text/plain": [
       "'Humidor, Bargeldbezug mit Post- / M-Card'"
      ]
     },
     "execution_count": 214,
     "metadata": {},
     "output_type": "execute_result"
    }
   ],
   "source": [
    "stores[4].findAll('dd')[5].findAll(\"div\")[1].text"
   ]
  },
  {
   "cell_type": "code",
   "execution_count": 225,
   "id": "39f88611-eb12-49e1-84e9-339e0597e5cd",
   "metadata": {},
   "outputs": [
    {
     "data": {
      "text/plain": [
       "'Sonntag'"
      ]
     },
     "execution_count": 225,
     "metadata": {},
     "output_type": "execute_result"
    }
   ],
   "source": [
    "day[4].find(\"td\", {\"itemprop\": \"dayOfWeek\"}).text.split()[0]"
   ]
  },
  {
   "cell_type": "code",
   "execution_count": 231,
   "id": "b011a1dd-ddbe-459c-99df-6b9dc24666ec",
   "metadata": {},
   "outputs": [],
   "source": [
    "def get_filialen(stores):\n",
    "    cols = [\"street_number\", \"post_municipality\", \"telephone\", \"type_store\", \"Angebot\", \"Montag\", \"Dienstag\", \"Mittwoch\", \"Donnerstag\", \"Freitag\", \"Samstag\", \"Sonntag\" ,\"gmaps_link\"]\n",
    "    df = pd.DataFrame(columns = cols)\n",
    "    daysOfWeek = [\"Montag\", \"Dienstag\", \"Mittwoch\", \"Donnerstag\", \"Freitag\", \"Samstag\", \"Sonntag\" ]\n",
    "    for i in range(len(stores)):\n",
    "        try:\n",
    "            street_number = stores[i].findAll('span')[0].text\n",
    "        except AttributeError:\n",
    "            street_number = np.nan\n",
    "\n",
    "        try:\n",
    "            post_municipality = stores[i].findAll('span')[1].text\n",
    "        except AttributeError:\n",
    "            post_municipality = np.nan\n",
    "\n",
    "        try:\n",
    "            type_store = stores[i].findAll('dd')[1].text.strip()\n",
    "        except AttributeError:\n",
    "            type_store = np.nan\n",
    "        try:\n",
    "            j =stores[i].findAll('dd')[0].text.find(\"Tel.\")\n",
    "            telephone = stores[i].findAll('dd')[0].text[j+5:j+18]\n",
    "        except AttributeError:\n",
    "            telephone = np.nan\n",
    "        try:\n",
    "            # print(\"Pedro prints\", i)\n",
    "            try:\n",
    "                Angebot = stores[i].findAll('dd')[4].findAll(\"div\")[1].text\n",
    "            except IndexError:\n",
    "                try:\n",
    "                    Angebot = stores[i].findAll('dd')[5].findAll(\"div\")[1].text\n",
    "                except:\n",
    "                    Angebot = np.nan\n",
    "        except AttributeError:\n",
    "            Angebot = np.nan\n",
    "            \n",
    "        try:\n",
    "            gmaps_link = stores[i].find('a', {'class' : 'google_track_link'}).get('href')\n",
    "        except AttributeError:\n",
    "            gmaps_link = np.nan\n",
    "        \n",
    "        try:\n",
    "            days = stores[i].findAll('tr', {'itemprop' : 'openingHoursSpecification'})\n",
    "        except AttributeError:\n",
    "            days = 0\n",
    "\n",
    "        if  days == 0:\n",
    "            Montag = Dienstag=Mittwoch=Donnerstag=Freitag=Samstag=Sonntag=np.nan\n",
    "        else:\n",
    "            special_case = 0\n",
    "            for j, day in enumerate(days):\n",
    "                \n",
    "                if j> 6 and special_case== 0:\n",
    "                    break\n",
    "                # print(\"Pedro prints\", i)\n",
    "                if len(day.find(\"td\", {\"itemprop\": \"dayOfWeek\"}).text.split()) == 0:\n",
    "                    break\n",
    "                if day.find(\"td\", {\"itemprop\": \"dayOfWeek\"}).text.split()[0] == \"Montag\":\n",
    "                    Montag = day.find(\"time\", {\"itemprop\": \"opens\"}).text + \" - \" + day.find(\"time\", {\"itemprop\": \"closes\"}).text\n",
    "                elif day.find(\"td\", {\"itemprop\": \"dayOfWeek\"}).text.split()[0] == \"Dienstag\":\n",
    "                    Dienstag = day.find(\"time\", {\"itemprop\": \"opens\"}).text + \" - \" + day.find(\"time\", {\"itemprop\": \"closes\"}).text\n",
    "                elif day.find(\"td\", {\"itemprop\": \"dayOfWeek\"}).text.split()[0] == \"Mittwoch\":\n",
    "                    Mittwoch = day.find(\"time\", {\"itemprop\": \"opens\"}).text + \" - \" + day.find(\"time\", {\"itemprop\": \"closes\"}).text\n",
    "                elif day.find(\"td\", {\"itemprop\": \"dayOfWeek\"}).text.split()[0] == \"Donnerstag\":\n",
    "                    Donnerstag = day.find(\"time\", {\"itemprop\": \"opens\"}).text + \" - \" + day.find(\"time\", {\"itemprop\": \"closes\"}).text\n",
    "                elif day.find(\"td\", {\"itemprop\": \"dayOfWeek\"}).text.split()[0] == \"Freitag\":\n",
    "                    Freitag = day.find(\"time\", {\"itemprop\": \"opens\"}).text + \" - \" + day.find(\"time\", {\"itemprop\": \"closes\"}).text\n",
    "                elif day.find(\"td\", {\"itemprop\": \"dayOfWeek\"}).text.split()[0] == \"Samstag\":\n",
    "                    Samstag = day.find(\"time\", {\"itemprop\": \"opens\"}).text + \" - \" + day.find(\"time\", {\"itemprop\": \"closes\"}).text\n",
    "                elif day.find(\"td\", {\"itemprop\": \"dayOfWeek\"}).text.split()[0] == \"Sonntag\":\n",
    "                    try:\n",
    "                        Sonntag = day.find(\"time\", {\"itemprop\": \"opens\"}).text + \" - \" + day.find(\"time\", {\"itemprop\": \"closes\"}).text\n",
    "                    except AttributeError:\n",
    "                        Sonntag = \"Closed\"\n",
    "\n",
    "        store_dict = {\n",
    "            'street_number': street_number,\n",
    "            'post_municipality': post_municipality,\n",
    "            'telephone': telephone,\n",
    "            'type_store': type_store,\n",
    "            'Angebot':Angebot,\n",
    "            'Montag': Montag,\n",
    "            'Dienstag': Dienstag,\n",
    "            'Mittwoch': Mittwoch,\n",
    "            'Donnerstag': Donnerstag,\n",
    "            'Freitag': Freitag,\n",
    "            'Samstag': Samstag,\n",
    "            'Sonntag': Sonntag,\n",
    "            'gmaps_link': gmaps_link,\n",
    "        }\n",
    "\n",
    "        df = pd.concat([df, pd.DataFrame(store_dict, index=[0])], ignore_index=True)\n",
    "\n",
    "\n",
    "    return df\n",
    "\n",
    "\n",
    "\n"
   ]
  },
  {
   "cell_type": "code",
   "execution_count": 232,
   "id": "1b742ae4-b812-458c-9467-0473d676ab4c",
   "metadata": {},
   "outputs": [],
   "source": [
    "stores_df =get_filialen(stores)"
   ]
  },
  {
   "cell_type": "code",
   "execution_count": 241,
   "id": "5bca95f7-7c67-4f91-8fbb-9bfa83d893fc",
   "metadata": {},
   "outputs": [],
   "source": [
    "# stores_df"
   ]
  },
  {
   "cell_type": "code",
   "execution_count": 250,
   "id": "3cffae93-4514-46b0-86e1-3ae42fda16fe",
   "metadata": {},
   "outputs": [
    {
     "data": {
      "text/plain": [
       "'Closed'"
      ]
     },
     "execution_count": 250,
     "metadata": {},
     "output_type": "execute_result"
    }
   ],
   "source": [
    "stores_df.at[58,\"Sonntag\"] = \"Closed\"\n",
    "stores_df.at[58,\"Sonntag\"]"
   ]
  },
  {
   "cell_type": "code",
   "execution_count": 254,
   "id": "fcd72fff-e04b-4f25-9e24-8da8c78e34f8",
   "metadata": {},
   "outputs": [],
   "source": [
    "# stores_df.to_csv(\"../data/denner_branches/denner_branches.csv\")"
   ]
  },
  {
   "cell_type": "code",
   "execution_count": 255,
   "id": "85b8d716-6f1d-4424-b011-aa69d6813169",
   "metadata": {},
   "outputs": [
    {
     "data": {
      "text/html": [
       "<div>\n",
       "<style scoped>\n",
       "    .dataframe tbody tr th:only-of-type {\n",
       "        vertical-align: middle;\n",
       "    }\n",
       "\n",
       "    .dataframe tbody tr th {\n",
       "        vertical-align: top;\n",
       "    }\n",
       "\n",
       "    .dataframe thead th {\n",
       "        text-align: right;\n",
       "    }\n",
       "</style>\n",
       "<table border=\"1\" class=\"dataframe\">\n",
       "  <thead>\n",
       "    <tr style=\"text-align: right;\">\n",
       "      <th></th>\n",
       "      <th>street_number</th>\n",
       "      <th>post_municipality</th>\n",
       "      <th>telephone</th>\n",
       "      <th>type_store</th>\n",
       "      <th>Angebot</th>\n",
       "      <th>Montag</th>\n",
       "      <th>Dienstag</th>\n",
       "      <th>Mittwoch</th>\n",
       "      <th>Donnerstag</th>\n",
       "      <th>Freitag</th>\n",
       "      <th>Samstag</th>\n",
       "      <th>Sonntag</th>\n",
       "      <th>gmaps_link</th>\n",
       "    </tr>\n",
       "  </thead>\n",
       "  <tbody>\n",
       "    <tr>\n",
       "      <th>0</th>\n",
       "      <td>Wengistrasse 7</td>\n",
       "      <td>8004 Zürich</td>\n",
       "      <td>058 999 06 27</td>\n",
       "      <td>Denner Express</td>\n",
       "      <td>Humidor, Bargeldbezug mit Post- / M-Card</td>\n",
       "      <td>08:00 - 20:00</td>\n",
       "      <td>08:00 - 20:00</td>\n",
       "      <td>08:00 - 20:00</td>\n",
       "      <td>08:00 - 20:00</td>\n",
       "      <td>08:00 - 20:00</td>\n",
       "      <td>08:00 - 20:00</td>\n",
       "      <td>Closed</td>\n",
       "      <td>https://maps.google.com/maps?saddr&amp;daddr=Wengi...</td>\n",
       "    </tr>\n",
       "    <tr>\n",
       "      <th>1</th>\n",
       "      <td>Molkenstrasse 8</td>\n",
       "      <td>8004 Zürich</td>\n",
       "      <td>058 999 14 13</td>\n",
       "      <td>Denner Express</td>\n",
       "      <td>Humidor, Bargeldbezug mit Post- / M-Card</td>\n",
       "      <td>07:00 - 20:00</td>\n",
       "      <td>07:00 - 20:00</td>\n",
       "      <td>07:00 - 20:00</td>\n",
       "      <td>07:00 - 20:00</td>\n",
       "      <td>07:00 - 20:00</td>\n",
       "      <td>07:00 - 20:00</td>\n",
       "      <td>Closed</td>\n",
       "      <td>https://maps.google.com/maps?saddr&amp;daddr=Molke...</td>\n",
       "    </tr>\n",
       "    <tr>\n",
       "      <th>2</th>\n",
       "      <td>Werdstrasse 36</td>\n",
       "      <td>8004 Zürich</td>\n",
       "      <td>058 999 03 02</td>\n",
       "      <td>Denner Filiale</td>\n",
       "      <td>Humidor, Bargeldbezug mit Post- / M-Card</td>\n",
       "      <td>08:00 - 20:00</td>\n",
       "      <td>08:00 - 20:00</td>\n",
       "      <td>08:00 - 20:00</td>\n",
       "      <td>08:00 - 20:00</td>\n",
       "      <td>08:00 - 20:00</td>\n",
       "      <td>08:00 - 20:00</td>\n",
       "      <td>Closed</td>\n",
       "      <td>https://maps.google.com/maps?saddr&amp;daddr=Werds...</td>\n",
       "    </tr>\n",
       "    <tr>\n",
       "      <th>3</th>\n",
       "      <td>Sihlhallenstrasse 5-7</td>\n",
       "      <td>8004 Zürich</td>\n",
       "      <td>058 999 04 19</td>\n",
       "      <td>Denner Express</td>\n",
       "      <td>Humidor, Bargeldbezug mit Post- / M-Card, Post...</td>\n",
       "      <td>08:00 - 20:00</td>\n",
       "      <td>08:00 - 20:00</td>\n",
       "      <td>08:00 - 20:00</td>\n",
       "      <td>08:00 - 20:00</td>\n",
       "      <td>08:00 - 20:00</td>\n",
       "      <td>08:00 - 20:00</td>\n",
       "      <td>Closed</td>\n",
       "      <td>https://maps.google.com/maps?saddr&amp;daddr=Sihlh...</td>\n",
       "    </tr>\n",
       "    <tr>\n",
       "      <th>4</th>\n",
       "      <td>Badenerstrasse 296</td>\n",
       "      <td>8004 Zürich</td>\n",
       "      <td>058 999 14 75</td>\n",
       "      <td>Denner Filiale</td>\n",
       "      <td>Humidor, Bargeldbezug mit Post- / M-Card</td>\n",
       "      <td>07:00 - 20:00</td>\n",
       "      <td>07:00 - 20:00</td>\n",
       "      <td>07:00 - 20:00</td>\n",
       "      <td>07:00 - 20:00</td>\n",
       "      <td>07:00 - 20:00</td>\n",
       "      <td>07:00 - 20:00</td>\n",
       "      <td>Closed</td>\n",
       "      <td>https://maps.google.com/maps?saddr&amp;daddr=Baden...</td>\n",
       "    </tr>\n",
       "    <tr>\n",
       "      <th>...</th>\n",
       "      <td>...</td>\n",
       "      <td>...</td>\n",
       "      <td>...</td>\n",
       "      <td>...</td>\n",
       "      <td>...</td>\n",
       "      <td>...</td>\n",
       "      <td>...</td>\n",
       "      <td>...</td>\n",
       "      <td>...</td>\n",
       "      <td>...</td>\n",
       "      <td>...</td>\n",
       "      <td>...</td>\n",
       "      <td>...</td>\n",
       "    </tr>\n",
       "    <tr>\n",
       "      <th>155</th>\n",
       "      <td>Römerstrasse 243</td>\n",
       "      <td>8404 Winterthur</td>\n",
       "      <td>058 999 14 62</td>\n",
       "      <td>Denner Express</td>\n",
       "      <td>Humidor, Bargeldbezug mit Post- / M-Card</td>\n",
       "      <td>07:30 - 20:00</td>\n",
       "      <td>07:30 - 20:00</td>\n",
       "      <td>07:30 - 20:00</td>\n",
       "      <td>07:30 - 20:00</td>\n",
       "      <td>07:30 - 20:00</td>\n",
       "      <td>08:00 - 19:00</td>\n",
       "      <td>Closed</td>\n",
       "      <td>https://maps.google.com/maps?saddr&amp;daddr=R%C3%...</td>\n",
       "    </tr>\n",
       "    <tr>\n",
       "      <th>156</th>\n",
       "      <td>Hintermühlenstrasse 4</td>\n",
       "      <td>8409 Winterthur</td>\n",
       "      <td>058 999 13 15</td>\n",
       "      <td>Denner Filiale</td>\n",
       "      <td>Humidor, Bargeldbezug mit Post- / M-Card</td>\n",
       "      <td>08:00 - 20:00</td>\n",
       "      <td>08:00 - 20:00</td>\n",
       "      <td>08:00 - 20:00</td>\n",
       "      <td>08:00 - 20:00</td>\n",
       "      <td>08:00 - 20:00</td>\n",
       "      <td>08:00 - 19:00</td>\n",
       "      <td>Closed</td>\n",
       "      <td>https://maps.google.com/maps?saddr&amp;daddr=Hinte...</td>\n",
       "    </tr>\n",
       "    <tr>\n",
       "      <th>157</th>\n",
       "      <td>Wässeristrasse 20</td>\n",
       "      <td>8340 Hinwil</td>\n",
       "      <td>058 999 06 67</td>\n",
       "      <td>Denner Filiale</td>\n",
       "      <td>Humidor, Bargeldbezug mit Post- / M-Card</td>\n",
       "      <td>07:30 - 20:00</td>\n",
       "      <td>07:30 - 20:00</td>\n",
       "      <td>07:30 - 20:00</td>\n",
       "      <td>07:30 - 20:00</td>\n",
       "      <td>07:30 - 20:00</td>\n",
       "      <td>07:30 - 20:00</td>\n",
       "      <td>Closed</td>\n",
       "      <td>https://maps.google.com/maps?saddr&amp;daddr=W%C3%...</td>\n",
       "    </tr>\n",
       "    <tr>\n",
       "      <th>158</th>\n",
       "      <td>Wambisterstrasse 2</td>\n",
       "      <td>5412 Gebenstorf</td>\n",
       "      <td>058 999 13 40</td>\n",
       "      <td>Denner Filiale</td>\n",
       "      <td>Humidor, Bargeldbezug mit Post- / M-Card</td>\n",
       "      <td>08:00 - 20:00</td>\n",
       "      <td>08:00 - 20:00</td>\n",
       "      <td>08:00 - 20:00</td>\n",
       "      <td>08:00 - 20:00</td>\n",
       "      <td>08:00 - 20:00</td>\n",
       "      <td>08:00 - 18:00</td>\n",
       "      <td>Closed</td>\n",
       "      <td>https://maps.google.com/maps?saddr&amp;daddr=Wambi...</td>\n",
       "    </tr>\n",
       "    <tr>\n",
       "      <th>159</th>\n",
       "      <td>Wächlenstrasse 1</td>\n",
       "      <td>8832 Wollerau</td>\n",
       "      <td>058 999 14 42</td>\n",
       "      <td>Denner Filiale</td>\n",
       "      <td>Humidor, Bargeldbezug mit Post- / M-Card</td>\n",
       "      <td>08:00 - 20:00</td>\n",
       "      <td>08:00 - 20:00</td>\n",
       "      <td>07:30 - 20:00</td>\n",
       "      <td>07:30 - 20:00</td>\n",
       "      <td>07:30 - 20:00</td>\n",
       "      <td>08:00 - 18:00</td>\n",
       "      <td>Closed</td>\n",
       "      <td>https://maps.google.com/maps?saddr&amp;daddr=W%C3%...</td>\n",
       "    </tr>\n",
       "  </tbody>\n",
       "</table>\n",
       "<p>160 rows × 13 columns</p>\n",
       "</div>"
      ],
      "text/plain": [
       "              street_number post_municipality      telephone      type_store  \\\n",
       "0            Wengistrasse 7       8004 Zürich  058 999 06 27  Denner Express   \n",
       "1           Molkenstrasse 8       8004 Zürich  058 999 14 13  Denner Express   \n",
       "2            Werdstrasse 36       8004 Zürich  058 999 03 02  Denner Filiale   \n",
       "3     Sihlhallenstrasse 5-7       8004 Zürich  058 999 04 19  Denner Express   \n",
       "4        Badenerstrasse 296       8004 Zürich  058 999 14 75  Denner Filiale   \n",
       "..                      ...               ...            ...             ...   \n",
       "155        Römerstrasse 243   8404 Winterthur  058 999 14 62  Denner Express   \n",
       "156   Hintermühlenstrasse 4   8409 Winterthur  058 999 13 15  Denner Filiale   \n",
       "157       Wässeristrasse 20       8340 Hinwil  058 999 06 67  Denner Filiale   \n",
       "158      Wambisterstrasse 2   5412 Gebenstorf  058 999 13 40  Denner Filiale   \n",
       "159        Wächlenstrasse 1     8832 Wollerau  058 999 14 42  Denner Filiale   \n",
       "\n",
       "                                               Angebot         Montag  \\\n",
       "0             Humidor, Bargeldbezug mit Post- / M-Card  08:00 - 20:00   \n",
       "1             Humidor, Bargeldbezug mit Post- / M-Card  07:00 - 20:00   \n",
       "2             Humidor, Bargeldbezug mit Post- / M-Card  08:00 - 20:00   \n",
       "3    Humidor, Bargeldbezug mit Post- / M-Card, Post...  08:00 - 20:00   \n",
       "4             Humidor, Bargeldbezug mit Post- / M-Card  07:00 - 20:00   \n",
       "..                                                 ...            ...   \n",
       "155           Humidor, Bargeldbezug mit Post- / M-Card  07:30 - 20:00   \n",
       "156           Humidor, Bargeldbezug mit Post- / M-Card  08:00 - 20:00   \n",
       "157           Humidor, Bargeldbezug mit Post- / M-Card  07:30 - 20:00   \n",
       "158           Humidor, Bargeldbezug mit Post- / M-Card  08:00 - 20:00   \n",
       "159           Humidor, Bargeldbezug mit Post- / M-Card  08:00 - 20:00   \n",
       "\n",
       "          Dienstag       Mittwoch     Donnerstag        Freitag  \\\n",
       "0    08:00 - 20:00  08:00 - 20:00  08:00 - 20:00  08:00 - 20:00   \n",
       "1    07:00 - 20:00  07:00 - 20:00  07:00 - 20:00  07:00 - 20:00   \n",
       "2    08:00 - 20:00  08:00 - 20:00  08:00 - 20:00  08:00 - 20:00   \n",
       "3    08:00 - 20:00  08:00 - 20:00  08:00 - 20:00  08:00 - 20:00   \n",
       "4    07:00 - 20:00  07:00 - 20:00  07:00 - 20:00  07:00 - 20:00   \n",
       "..             ...            ...            ...            ...   \n",
       "155  07:30 - 20:00  07:30 - 20:00  07:30 - 20:00  07:30 - 20:00   \n",
       "156  08:00 - 20:00  08:00 - 20:00  08:00 - 20:00  08:00 - 20:00   \n",
       "157  07:30 - 20:00  07:30 - 20:00  07:30 - 20:00  07:30 - 20:00   \n",
       "158  08:00 - 20:00  08:00 - 20:00  08:00 - 20:00  08:00 - 20:00   \n",
       "159  08:00 - 20:00  07:30 - 20:00  07:30 - 20:00  07:30 - 20:00   \n",
       "\n",
       "           Samstag Sonntag                                         gmaps_link  \n",
       "0    08:00 - 20:00  Closed  https://maps.google.com/maps?saddr&daddr=Wengi...  \n",
       "1    07:00 - 20:00  Closed  https://maps.google.com/maps?saddr&daddr=Molke...  \n",
       "2    08:00 - 20:00  Closed  https://maps.google.com/maps?saddr&daddr=Werds...  \n",
       "3    08:00 - 20:00  Closed  https://maps.google.com/maps?saddr&daddr=Sihlh...  \n",
       "4    07:00 - 20:00  Closed  https://maps.google.com/maps?saddr&daddr=Baden...  \n",
       "..             ...     ...                                                ...  \n",
       "155  08:00 - 19:00  Closed  https://maps.google.com/maps?saddr&daddr=R%C3%...  \n",
       "156  08:00 - 19:00  Closed  https://maps.google.com/maps?saddr&daddr=Hinte...  \n",
       "157  07:30 - 20:00  Closed  https://maps.google.com/maps?saddr&daddr=W%C3%...  \n",
       "158  08:00 - 18:00  Closed  https://maps.google.com/maps?saddr&daddr=Wambi...  \n",
       "159  08:00 - 18:00  Closed  https://maps.google.com/maps?saddr&daddr=W%C3%...  \n",
       "\n",
       "[160 rows x 13 columns]"
      ]
     },
     "execution_count": 255,
     "metadata": {},
     "output_type": "execute_result"
    }
   ],
   "source": [
    "stores_df"
   ]
  },
  {
   "cell_type": "code",
   "execution_count": null,
   "id": "405f0436-dc4b-4d42-a86a-dc25960ddff3",
   "metadata": {},
   "outputs": [],
   "source": []
  }
 ],
 "metadata": {
  "kernelspec": {
   "display_name": "propulsion",
   "language": "python",
   "name": "propulsion"
  },
  "language_info": {
   "codemirror_mode": {
    "name": "ipython",
    "version": 3
   },
   "file_extension": ".py",
   "mimetype": "text/x-python",
   "name": "python",
   "nbconvert_exporter": "python",
   "pygments_lexer": "ipython3",
   "version": "3.10.13"
  }
 },
 "nbformat": 4,
 "nbformat_minor": 5
}
