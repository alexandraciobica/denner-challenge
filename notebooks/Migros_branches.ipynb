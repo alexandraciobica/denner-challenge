{
 "cells": [
  {
   "cell_type": "code",
   "execution_count": 1,
   "id": "1d32ab20-5297-4c47-9070-cd8a09e32894",
   "metadata": {},
   "outputs": [],
   "source": [
    "from bs4 import BeautifulSoup\n",
    "import pandas as pd\n",
    "import numpy as np\n",
    "import requests"
   ]
  },
  {
   "cell_type": "code",
   "execution_count": 63,
   "id": "7686a8ce-6b8c-473d-bac6-177ee6e00ca6",
   "metadata": {},
   "outputs": [],
   "source": [
    "headers = {'User-agent': \"Mozilla/5.0 (Windows NT 10.0; Win64; x64) AppleWebKit/537.36 (KHTML, like Gecko) Chrome/91.0.4472.124 Safari/537.36\"}\n",
    "page = requests.get(\"https://www.profital.ch/de/fl/81450-migros-filialen?page=1\", headers=headers)"
   ]
  },
  {
   "cell_type": "code",
   "execution_count": 64,
   "id": "5bac15b0-c9c4-4c5a-bce3-185863a50a6c",
   "metadata": {},
   "outputs": [
    {
     "name": "stdout",
     "output_type": "stream",
     "text": [
      "200\n"
     ]
    }
   ],
   "source": [
    "print(page.status_code)"
   ]
  },
  {
   "cell_type": "code",
   "execution_count": 65,
   "id": "ff9941f5-d4f2-4fb5-9dd0-2fb2aab49df2",
   "metadata": {},
   "outputs": [],
   "source": [
    "soup = BeautifulSoup(page.content, \"html.parser\") # converts the page content into a beautifulsoup object"
   ]
  },
  {
   "cell_type": "code",
   "execution_count": 76,
   "id": "b200ae6c-31d7-480e-bb2c-77e25c93c509",
   "metadata": {},
   "outputs": [],
   "source": [
    "stores = soup.findAll(\"div\", {\"class\": \"wrapper-store-top\"})"
   ]
  },
  {
   "cell_type": "code",
   "execution_count": 77,
   "id": "b27ee784-da5d-42fe-ad60-5b848ecb90b1",
   "metadata": {},
   "outputs": [
    {
     "data": {
      "text/plain": [
       "15"
      ]
     },
     "execution_count": 77,
     "metadata": {},
     "output_type": "execute_result"
    }
   ],
   "source": [
    "len(stores)"
   ]
  },
  {
   "cell_type": "code",
   "execution_count": null,
   "id": "5feaf70b-9ed4-451f-a030-75eff2d8506a",
   "metadata": {},
   "outputs": [],
   "source": [
    "<a href=\"/de/zuerich-shopvillemaert\" class=\"sc-hWRnEO jtIteb\"><aside aria-hidden=\"true\" data-test-id=\"storefinder_stores-list_item-logo-0150140\" class=\"sc-kKXBxx kpuDlJ\"><img src=\"//image.migros.ch/filialen/200x200/b7ed598472b2aa065658425a494316272885c3ff/m-de.png\" alt=\"M-Migros\" class=\"sc-hTZtdg dKwuNP\"></aside><div><div><span data-test-id=\"storefinder_stores-list_item-name-0150140\" class=\"sc-fIYMun kWWXCI\">Zürich - ShopVilleMärt</span><div aria-label=\"129 m Distanz in Luftlinie zwischen Filiale und geografischem Mittelpunkt von &quot;&quot;\" title=\"Distanz in Luftlinie zwischen Filiale und geografischem Mittelpunkt von &quot;&quot;\" class=\"sc-gATIKf ckjCyl\"><span aria-hidden=\"true\"><img src=\"https://cdn.migros.ch/ch.migros.msrc/img/stores/20200317/map-markers/migros/search-location.svg\" class=\"sc-hxqDqe eYaJeZ\">129 m</span></div></div><p data-test-id=\"storefinder_stores-list_item-address-0150140\" class=\"sc-cSa-DZW dkKZrh\">Shop Ville, 8001 Zürich</p><div class=\"sc-kNPvZf fXSnaN\">Heute bis 21:00 geöffnet</div></div></a>"
   ]
  },
  {
   "cell_type": "code",
   "execution_count": 91,
   "id": "fae2c6b5-3340-43a1-88f6-02ae60a71794",
   "metadata": {},
   "outputs": [
    {
     "data": {
      "text/plain": [
       "'Wengistrasse 7'"
      ]
     },
     "execution_count": 91,
     "metadata": {},
     "output_type": "execute_result"
    }
   ],
   "source": [
    "stores[0].find(\"address\").text.strip().split(\"\\n\")[0].strip()"
   ]
  },
  {
   "cell_type": "code",
   "execution_count": 90,
   "id": "beea7f96-f829-4106-ad30-4210ecac65c4",
   "metadata": {},
   "outputs": [
    {
     "data": {
      "text/plain": [
       "'Migros'"
      ]
     },
     "execution_count": 90,
     "metadata": {},
     "output_type": "execute_result"
    }
   ],
   "source": [
    "stores[0].find(\"span\", {\"class\": \"title-store\"}).text"
   ]
  },
  {
   "cell_type": "code",
   "execution_count": 93,
   "id": "47bf45ac-738e-4771-a6c5-82507be751a5",
   "metadata": {},
   "outputs": [],
   "source": [
    "\n",
    "def get_filialen():\n",
    "    headers = {'User-agent': \"Mozilla/5.0 (Windows NT 10.0; Win64; x64) AppleWebKit/537.36 (KHTML, like Gecko) Chrome/91.0.4472.124 Safari/537.36\"}\n",
    "    cols = [ \"name\", \"address\"]\n",
    "    df = pd.DataFrame(columns = cols)\n",
    "    for j in range(1,44):\n",
    "        page = requests.get(f\"https://www.profital.ch/de/fl/81450-migros-filialen?page={j}\", headers=headers)\n",
    "        soup = BeautifulSoup(page.content, \"html.parser\")\n",
    "        stores = soup.findAll(\"div\", {\"class\": \"wrapper-store-top\"})\n",
    "        \n",
    "        for i in range(len(stores)):\n",
    "            try:\n",
    "                address = stores[i].find(\"address\").text.strip().split(\"\\n\")[0].strip() + \" \"+stores[i].find(\"address\").text.strip().split(\"\\n\")[1].strip()\n",
    "            except AttributeError:\n",
    "                address = np.nan\n",
    "            try:\n",
    "                name = stores[i].find(\"span\", {\"class\": \"title-store\"}).text\n",
    "            except AttributeError:\n",
    "                name = np.nan\n",
    "    \n",
    "            store_dict = {\n",
    "                'name': name,\n",
    "                'address': address\n",
    "            }\n",
    "    \n",
    "            df = pd.concat([df, pd.DataFrame(store_dict, index=[0])], ignore_index=True)\n",
    "    return df"
   ]
  },
  {
   "cell_type": "code",
   "execution_count": 94,
   "id": "0daec7d2-728f-4eba-b6a9-d6e7c7735050",
   "metadata": {},
   "outputs": [],
   "source": [
    "migros_branches = get_filialen()"
   ]
  },
  {
   "cell_type": "code",
   "execution_count": 95,
   "id": "d5687d2c-3c13-4e0a-9b99-751f765d3b7e",
   "metadata": {},
   "outputs": [
    {
     "data": {
      "text/html": [
       "<div>\n",
       "<style scoped>\n",
       "    .dataframe tbody tr th:only-of-type {\n",
       "        vertical-align: middle;\n",
       "    }\n",
       "\n",
       "    .dataframe tbody tr th {\n",
       "        vertical-align: top;\n",
       "    }\n",
       "\n",
       "    .dataframe thead th {\n",
       "        text-align: right;\n",
       "    }\n",
       "</style>\n",
       "<table border=\"1\" class=\"dataframe\">\n",
       "  <thead>\n",
       "    <tr style=\"text-align: right;\">\n",
       "      <th></th>\n",
       "      <th>name</th>\n",
       "      <th>address</th>\n",
       "    </tr>\n",
       "  </thead>\n",
       "  <tbody>\n",
       "    <tr>\n",
       "      <th>0</th>\n",
       "      <td>Migros</td>\n",
       "      <td>Wengistrasse 7 8004 Zürich</td>\n",
       "    </tr>\n",
       "    <tr>\n",
       "      <th>1</th>\n",
       "      <td>Migros</td>\n",
       "      <td>Sihlpassage 8004 Zürich</td>\n",
       "    </tr>\n",
       "    <tr>\n",
       "      <th>2</th>\n",
       "      <td>Migros</td>\n",
       "      <td>Zollstrasse 6 8005 Zürich</td>\n",
       "    </tr>\n",
       "    <tr>\n",
       "      <th>3</th>\n",
       "      <td>Migros</td>\n",
       "      <td>Löwenstrasse 31 - 35 8001 Zürich</td>\n",
       "    </tr>\n",
       "    <tr>\n",
       "      <th>4</th>\n",
       "      <td>Migros</td>\n",
       "      <td>Limmatstrasse 152 8005 Zürich</td>\n",
       "    </tr>\n",
       "    <tr>\n",
       "      <th>...</th>\n",
       "      <td>...</td>\n",
       "      <td>...</td>\n",
       "    </tr>\n",
       "    <tr>\n",
       "      <th>635</th>\n",
       "      <td>Migros</td>\n",
       "      <td>Place du Lignon 29 a 1219 Le Lignon</td>\n",
       "    </tr>\n",
       "    <tr>\n",
       "      <th>636</th>\n",
       "      <td>Migros</td>\n",
       "      <td>Rue des Bossons 78 - 80 1213 Petit-Lancy</td>\n",
       "    </tr>\n",
       "    <tr>\n",
       "      <th>637</th>\n",
       "      <td>Migros</td>\n",
       "      <td>Av. des Communes-Réunies 52 1212 Grand-Lancy</td>\n",
       "    </tr>\n",
       "    <tr>\n",
       "      <th>638</th>\n",
       "      <td>Migros</td>\n",
       "      <td>Route de Saint-Julien 176 1228 Plan-les-Ouates</td>\n",
       "    </tr>\n",
       "    <tr>\n",
       "      <th>639</th>\n",
       "      <td>Migros</td>\n",
       "      <td>Cc Val Thoiry 1710 Thoiry</td>\n",
       "    </tr>\n",
       "  </tbody>\n",
       "</table>\n",
       "<p>640 rows × 2 columns</p>\n",
       "</div>"
      ],
      "text/plain": [
       "       name                                         address\n",
       "0    Migros                      Wengistrasse 7 8004 Zürich\n",
       "1    Migros                         Sihlpassage 8004 Zürich\n",
       "2    Migros                       Zollstrasse 6 8005 Zürich\n",
       "3    Migros                Löwenstrasse 31 - 35 8001 Zürich\n",
       "4    Migros                   Limmatstrasse 152 8005 Zürich\n",
       "..      ...                                             ...\n",
       "635  Migros             Place du Lignon 29 a 1219 Le Lignon\n",
       "636  Migros        Rue des Bossons 78 - 80 1213 Petit-Lancy\n",
       "637  Migros    Av. des Communes-Réunies 52 1212 Grand-Lancy\n",
       "638  Migros  Route de Saint-Julien 176 1228 Plan-les-Ouates\n",
       "639  Migros                       Cc Val Thoiry 1710 Thoiry\n",
       "\n",
       "[640 rows x 2 columns]"
      ]
     },
     "execution_count": 95,
     "metadata": {},
     "output_type": "execute_result"
    }
   ],
   "source": [
    "migros_branches"
   ]
  },
  {
   "cell_type": "code",
   "execution_count": 96,
   "id": "65e18467-1d63-4505-89b3-1e8ed568ea60",
   "metadata": {},
   "outputs": [],
   "source": [
    "migros_branches.to_csv(\"../data/Migros_branches/migros_branches.csv\")"
   ]
  },
  {
   "cell_type": "code",
   "execution_count": null,
   "id": "4c2a1f30-2010-41d0-8ff2-e283d1276c06",
   "metadata": {},
   "outputs": [],
   "source": []
  }
 ],
 "metadata": {
  "kernelspec": {
   "display_name": "propulsion",
   "language": "python",
   "name": "propulsion"
  },
  "language_info": {
   "codemirror_mode": {
    "name": "ipython",
    "version": 3
   },
   "file_extension": ".py",
   "mimetype": "text/x-python",
   "name": "python",
   "nbconvert_exporter": "python",
   "pygments_lexer": "ipython3",
   "version": "3.10.13"
  }
 },
 "nbformat": 4,
 "nbformat_minor": 5
}
