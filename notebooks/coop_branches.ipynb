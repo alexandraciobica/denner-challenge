{
 "cells": [
  {
   "cell_type": "code",
   "execution_count": 1,
   "id": "61383b1f-4ba3-4d65-b6f5-a8873ef136e8",
   "metadata": {},
   "outputs": [],
   "source": [
    "from bs4 import BeautifulSoup\n",
    "import pandas as pd\n",
    "import numpy as np"
   ]
  },
  {
   "cell_type": "code",
   "execution_count": 3,
   "id": "e71a1ed8-eaa5-4fda-ad48-19b04c2b773c",
   "metadata": {},
   "outputs": [],
   "source": [
    "with open(\"../data/coop_branches/Locations and opening times _ coop.ch.html\", 'r') as f:\n",
    "    soup = BeautifulSoup(f.read(), 'html')"
   ]
  },
  {
   "cell_type": "code",
   "execution_count": 25,
   "id": "121e4a9f-ce43-4a55-a9c4-f33c12a6857b",
   "metadata": {},
   "outputs": [],
   "source": [
    "stores = soup.findAll('div', {'class' : 'placeFinder-tile__place'})"
   ]
  },
  {
   "cell_type": "code",
   "execution_count": 26,
   "id": "101f14e0-0c65-43e0-b8df-a92b134dec3f",
   "metadata": {},
   "outputs": [
    {
     "data": {
      "text/plain": [
       "bs4.element.ResultSet"
      ]
     },
     "execution_count": 26,
     "metadata": {},
     "output_type": "execute_result"
    }
   ],
   "source": [
    "type(stores)"
   ]
  },
  {
   "cell_type": "code",
   "execution_count": 28,
   "id": "4a117215-9a70-4823-b363-7f8f3445ca89",
   "metadata": {},
   "outputs": [
    {
     "data": {
      "text/plain": [
       "161"
      ]
     },
     "execution_count": 28,
     "metadata": {},
     "output_type": "execute_result"
    }
   ],
   "source": [
    "len(stores)"
   ]
  },
  {
   "cell_type": "code",
   "execution_count": 33,
   "id": "0cfd8e8f-240a-4f11-94b6-0ed64f33aa8f",
   "metadata": {},
   "outputs": [
    {
     "data": {
      "text/plain": [
       "<div class=\"placeFinder-tile__place\" data-testauto=\"cell\">\n",
       "<span class=\"placeFinder-tile__place-title\" data-placefinder-tile__title=\"\">Coop Supermarkt ZÃ¼rich BahnhofbrÃ¼cke</span>\n",
       "<span class=\"placeFinder-tile__place-address\" data-placefinder-tile__address=\"\">BahnhofbrÃ¼cke 1, 8001 ZÃ¼rich</span>\n",
       "<span class=\"placeFinder-tile__place-country\" data-placefinder-tile__country=\"\">Switzerland</span>\n",
       "<span class=\"placeFinder-tile__place-opening-hours\">\n",
       "<span>\n",
       "                    Today\n",
       "                </span>\n",
       "<span data-placefinder-tile__today-hours=\"\">06:00 - 22:00</span>\n",
       "</span>\n",
       "</div>"
      ]
     },
     "execution_count": 33,
     "metadata": {},
     "output_type": "execute_result"
    }
   ],
   "source": [
    "stores[0]"
   ]
  },
  {
   "cell_type": "code",
   "execution_count": 57,
   "id": "f4a09b01-f008-4108-bc92-28fff1df88e6",
   "metadata": {},
   "outputs": [
    {
     "data": {
      "text/plain": [
       "'Coop Supermarkt Zürich Bahnhofbrücke'"
      ]
     },
     "execution_count": 57,
     "metadata": {},
     "output_type": "execute_result"
    }
   ],
   "source": [
    "stores[0].find(\"span\",  {'class' : 'placeFinder-tile__place-title'}).text.encode('latin1').decode('utf-8')"
   ]
  },
  {
   "cell_type": "code",
   "execution_count": 58,
   "id": "eeaf3204-48c5-4fd6-ab50-f8cc128585a4",
   "metadata": {},
   "outputs": [
    {
     "data": {
      "text/plain": [
       "'Bahnhofbrücke 1, 8001 Zürich'"
      ]
     },
     "execution_count": 58,
     "metadata": {},
     "output_type": "execute_result"
    }
   ],
   "source": [
    "stores[0].find(\"span\",  {'class' : 'placeFinder-tile__place-address'}).text.encode('latin1').decode('utf-8')"
   ]
  },
  {
   "cell_type": "code",
   "execution_count": 59,
   "id": "36b94852-6771-4448-b9eb-4d3fddebed40",
   "metadata": {},
   "outputs": [],
   "source": [
    "def get_filialen(stores):\n",
    "    cols = [ \"name\", \"address\"]\n",
    "    df = pd.DataFrame(columns = cols)\n",
    "    for i in range(len(stores)):\n",
    "        try:\n",
    "            name = stores[i].find(\"span\",  {'class' : 'placeFinder-tile__place-title'}).text.encode('latin1').decode('utf-8')\n",
    "        except AttributeError:\n",
    "            name = np.nan\n",
    "        try:\n",
    "            address = stores[i].find(\"span\",  {'class' : 'placeFinder-tile__place-address'}).text.encode('latin1').decode('utf-8')\n",
    "        except AttributeError:\n",
    "            address = np.nan\n",
    "\n",
    "        store_dict = {\n",
    "            'name': name,\n",
    "            'address': address\n",
    "        }\n",
    "\n",
    "        df = pd.concat([df, pd.DataFrame(store_dict, index=[0])], ignore_index=True)\n",
    "    return df\n"
   ]
  },
  {
   "cell_type": "code",
   "execution_count": 60,
   "id": "55d0a40d-e038-4797-93fe-4b8c5bd5c105",
   "metadata": {},
   "outputs": [],
   "source": [
    "stores_df =get_filialen(stores)"
   ]
  },
  {
   "cell_type": "code",
   "execution_count": 61,
   "id": "d925f760-7ead-4ab1-85e6-d955991ce52f",
   "metadata": {},
   "outputs": [
    {
     "data": {
      "text/html": [
       "<div>\n",
       "<style scoped>\n",
       "    .dataframe tbody tr th:only-of-type {\n",
       "        vertical-align: middle;\n",
       "    }\n",
       "\n",
       "    .dataframe tbody tr th {\n",
       "        vertical-align: top;\n",
       "    }\n",
       "\n",
       "    .dataframe thead th {\n",
       "        text-align: right;\n",
       "    }\n",
       "</style>\n",
       "<table border=\"1\" class=\"dataframe\">\n",
       "  <thead>\n",
       "    <tr style=\"text-align: right;\">\n",
       "      <th></th>\n",
       "      <th>name</th>\n",
       "      <th>address</th>\n",
       "    </tr>\n",
       "  </thead>\n",
       "  <tbody>\n",
       "    <tr>\n",
       "      <th>0</th>\n",
       "      <td>Coop Supermarkt Zürich Bahnhofbrücke</td>\n",
       "      <td>Bahnhofbrücke 1, 8001 Zürich</td>\n",
       "    </tr>\n",
       "    <tr>\n",
       "      <th>1</th>\n",
       "      <td>Coop Supermarkt Zürich ShopVille HB</td>\n",
       "      <td>Halle Löwenstrasse, 8021 Zürich</td>\n",
       "    </tr>\n",
       "    <tr>\n",
       "      <th>2</th>\n",
       "      <td>Coop Supermarkt Zürich Europaallee Passage</td>\n",
       "      <td>Europaallee 5, 8001 Zürich</td>\n",
       "    </tr>\n",
       "    <tr>\n",
       "      <th>3</th>\n",
       "      <td>Coop Supermarkt City Zürich St. Annahof Food</td>\n",
       "      <td>Bahnhofstrasse 57, 8001 Zürich</td>\n",
       "    </tr>\n",
       "    <tr>\n",
       "      <th>4</th>\n",
       "      <td>Coop Supermarkt Zürich Zollstrasse</td>\n",
       "      <td>Zollstrasse 42, 8005 Zürich</td>\n",
       "    </tr>\n",
       "    <tr>\n",
       "      <th>...</th>\n",
       "      <td>...</td>\n",
       "      <td>...</td>\n",
       "    </tr>\n",
       "    <tr>\n",
       "      <th>156</th>\n",
       "      <td>Coop Supermarkt Winterthur Seen</td>\n",
       "      <td>Tösstalstrasse 236, 8405 Winterthur</td>\n",
       "    </tr>\n",
       "    <tr>\n",
       "      <th>157</th>\n",
       "      <td>Coop Supermarkt Stäfa</td>\n",
       "      <td>Kronenstrasse 4+6, 8712 Stäfa</td>\n",
       "    </tr>\n",
       "    <tr>\n",
       "      <th>158</th>\n",
       "      <td>Coop Supermarkt Steinhausen</td>\n",
       "      <td>Bahnhofstrasse 7, 6312 Steinhausen</td>\n",
       "    </tr>\n",
       "    <tr>\n",
       "      <th>159</th>\n",
       "      <td>Coop Supermarkt Baden-Dättwil</td>\n",
       "      <td>Mellingerstrasse 212, 5405 Baden-Dättwil</td>\n",
       "    </tr>\n",
       "    <tr>\n",
       "      <th>160</th>\n",
       "      <td></td>\n",
       "      <td></td>\n",
       "    </tr>\n",
       "  </tbody>\n",
       "</table>\n",
       "<p>161 rows × 2 columns</p>\n",
       "</div>"
      ],
      "text/plain": [
       "                                             name  \\\n",
       "0            Coop Supermarkt Zürich Bahnhofbrücke   \n",
       "1             Coop Supermarkt Zürich ShopVille HB   \n",
       "2      Coop Supermarkt Zürich Europaallee Passage   \n",
       "3    Coop Supermarkt City Zürich St. Annahof Food   \n",
       "4              Coop Supermarkt Zürich Zollstrasse   \n",
       "..                                            ...   \n",
       "156               Coop Supermarkt Winterthur Seen   \n",
       "157                         Coop Supermarkt Stäfa   \n",
       "158                   Coop Supermarkt Steinhausen   \n",
       "159                 Coop Supermarkt Baden-Dättwil   \n",
       "160                                                 \n",
       "\n",
       "                                      address  \n",
       "0                Bahnhofbrücke 1, 8001 Zürich  \n",
       "1             Halle Löwenstrasse, 8021 Zürich  \n",
       "2                  Europaallee 5, 8001 Zürich  \n",
       "3              Bahnhofstrasse 57, 8001 Zürich  \n",
       "4                 Zollstrasse 42, 8005 Zürich  \n",
       "..                                        ...  \n",
       "156       Tösstalstrasse 236, 8405 Winterthur  \n",
       "157             Kronenstrasse 4+6, 8712 Stäfa  \n",
       "158        Bahnhofstrasse 7, 6312 Steinhausen  \n",
       "159  Mellingerstrasse 212, 5405 Baden-Dättwil  \n",
       "160                                            \n",
       "\n",
       "[161 rows x 2 columns]"
      ]
     },
     "execution_count": 61,
     "metadata": {},
     "output_type": "execute_result"
    }
   ],
   "source": [
    "stores_df"
   ]
  },
  {
   "cell_type": "code",
   "execution_count": 62,
   "id": "f32b92e2-1821-459b-83f6-017acc8f9aaa",
   "metadata": {},
   "outputs": [],
   "source": [
    "stores_df.to_csv(\"../data/coop_branches/coop_branches.csv\")"
   ]
  },
  {
   "cell_type": "code",
   "execution_count": null,
   "id": "93c66185-6b36-43ce-9b7a-df37f8f488a6",
   "metadata": {},
   "outputs": [],
   "source": []
  }
 ],
 "metadata": {
  "kernelspec": {
   "display_name": "propulsion",
   "language": "python",
   "name": "propulsion"
  },
  "language_info": {
   "codemirror_mode": {
    "name": "ipython",
    "version": 3
   },
   "file_extension": ".py",
   "mimetype": "text/x-python",
   "name": "python",
   "nbconvert_exporter": "python",
   "pygments_lexer": "ipython3",
   "version": "3.10.13"
  }
 },
 "nbformat": 4,
 "nbformat_minor": 5
}
